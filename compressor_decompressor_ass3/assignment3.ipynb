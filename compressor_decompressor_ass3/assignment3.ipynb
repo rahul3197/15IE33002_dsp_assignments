{
 "cells": [
  {
   "cell_type": "code",
   "execution_count": 1,
   "metadata": {},
   "outputs": [],
   "source": [
    "import numpy as np\n",
    "from __future__ import division\n",
    "import matplotlib.pyplot as plt\n",
    "import sys\n",
    "import cmath\n",
    "import math\n",
    "from scipy.io import wavfile\n",
    "import scipy.fftpack\n",
    "import pywt"
   ]
  },
  {
   "cell_type": "code",
   "execution_count": 2,
   "metadata": {},
   "outputs": [],
   "source": [
    "def  xdcthaar(X,L,N):\n",
    "    for i in range(N-L,N):\n",
    "        X[i]=0\n",
    "    return X    "
   ]
  },
  {
   "cell_type": "code",
   "execution_count": 3,
   "metadata": {},
   "outputs": [],
   "source": [
    "def samples_from_wav():\n",
    "    rate,array=wavfile.read(\"10kHz_44100Hz_16bit_05sec.wav\")\n",
    "    #print(rate)\n",
    "    result=array[0:rate]\n",
    "    return result    "
   ]
  },
  {
   "cell_type": "code",
   "execution_count": 7,
   "metadata": {},
   "outputs": [],
   "source": [
    "def compressor(x,L,file_name):\n",
    "    N=x.shape[0]\n",
    "    b=32\n",
    "    M=N-L\n",
    "    X=scipy.fftpack.dct(x)\n",
    "    f=open(file_name,'w+')\n",
    "    f.write(\"%d\\n\" %N)\n",
    "    f.write(\"%d\\n\" %M)\n",
    "    for i in range(M):\n",
    "        f.write(\"%f\\n\" %X[i])\n",
    "    f.close()\n",
    "    Xm=xdcthaar(X,L,N)\n",
    "    xm=scipy.fftpack.idct(Xm,norm=\"ortho\")\n",
    "    print(xm)\n",
    "\n",
    "    "
   ]
  },
  {
   "cell_type": "code",
   "execution_count": 8,
   "metadata": {},
   "outputs": [],
   "source": [
    "def decompressor(file_name):\n",
    "    f=open(file_name,\"r\")\n",
    "    contents=f.readlines()\n",
    "    N=int(contents[0].strip('\\n'))\n",
    "    M=int(contents[1].strip('\\n'))\n",
    "    contents=contents[2:]\n",
    "    array=[]\n",
    "    for i in contents:\n",
    "        array=np.append(array,float(i.strip('\\n')))\n",
    "    for i in range(M,N,1):\n",
    "        array=np.append(array,0)\n",
    "\n",
    "    #print(array.shape)    \n",
    "    xm=scipy.fftpack.idct(array,norm=\"ortho\")\n",
    "    print(xm)"
   ]
  },
  {
   "cell_type": "code",
   "execution_count": 9,
   "metadata": {},
   "outputs": [
    {
     "name": "stdout",
     "output_type": "stream",
     "text": [
      "[ 9.80426336e-01  6.66047837e+06  1.93842289e+06 ...  6.09650349e+06\n",
      " -1.93841837e+06 -6.66077604e+06]\n",
      "[ 9.80426176e-01  6.66047837e+06  1.93842289e+06 ...  6.09650349e+06\n",
      " -1.93841837e+06 -6.66077604e+06]\n"
     ]
    }
   ],
   "source": [
    "#driver program\n",
    "L=200\n",
    "file_name=\"input.txt\"\n",
    "x=samples_from_wav()\n",
    "compressor(x,L,file_name)\n",
    "decompressor(file_name)"
   ]
  }
 ],
 "metadata": {
  "kernelspec": {
   "display_name": "Python 3",
   "language": "python",
   "name": "python3"
  },
  "language_info": {
   "codemirror_mode": {
    "name": "ipython",
    "version": 3
   },
   "file_extension": ".py",
   "mimetype": "text/x-python",
   "name": "python",
   "nbconvert_exporter": "python",
   "pygments_lexer": "ipython3",
   "version": "3.6.5"
  }
 },
 "nbformat": 4,
 "nbformat_minor": 2
}
